{
 "cells": [
  {
   "cell_type": "code",
   "execution_count": 2,
   "metadata": {},
   "outputs": [
    {
     "name": "stdout",
     "output_type": "stream",
     "text": [
      "First few rows of the output CSV:\n",
      "  CustomerID                                Lookalikes\n",
      "0      C0001  C0069:0.9105, C0035:0.8294, C0005:0.7618\n",
      "1      C0002  C0062:0.8487, C0031:0.8239, C0025:0.7405\n",
      "2      C0003  C0144:0.8728, C0166:0.7875, C0134:0.7380\n",
      "3      C0004  C0017:0.9363, C0075:0.9310, C0122:0.8083\n",
      "4      C0005  C0007:0.8989, C0069:0.8679, C0199:0.8618\n"
     ]
    }
   ],
   "source": [
    "import pandas as pd\n",
    "import numpy as np\n",
    "from sklearn.preprocessing import StandardScaler\n",
    "from sklearn.metrics.pairwise import cosine_similarity\n",
    "\n",
    "customers_df = pd.read_csv('Customers.csv')\n",
    "products_df = pd.read_csv('Products.csv')\n",
    "transactions_df = pd.read_csv('Transactions.csv')\n",
    "\n",
    "def create_customer_features(customers_df, transactions_df, products_df):\n",
    "    customer_transactions = transactions_df.groupby('CustomerID').agg({\n",
    "        'TransactionID': 'count',\n",
    "        'TotalValue': ['sum', 'mean', 'std'],\n",
    "        'Quantity': ['sum', 'mean'],\n",
    "        'Price': ['mean', 'max']\n",
    "    }).fillna(0)\n",
    "    \n",
    "    customer_transactions.columns = ['_'.join(col).strip() for col in customer_transactions.columns.values]\n",
    "    \n",
    "    trans_products = pd.merge(transactions_df, products_df, on='ProductID')\n",
    "    category_pivot = pd.crosstab(trans_products['CustomerID'], trans_products['Category'])\n",
    "    category_pivot = category_pivot.div(category_pivot.sum(axis=1), axis=0)\n",
    "    \n",
    "    customer_features = pd.merge(\n",
    "        customer_transactions, \n",
    "        category_pivot,\n",
    "        left_index=True,\n",
    "        right_index=True,\n",
    "        how='left'\n",
    "    ).fillna(0)\n",
    "    \n",
    "    return customer_features\n",
    "\n",
    "customer_features = create_customer_features(customers_df, transactions_df, products_df)\n",
    "scaler = StandardScaler()\n",
    "feature_matrix = scaler.fit_transform(customer_features)\n",
    "feature_matrix = pd.DataFrame(feature_matrix, index=customer_features.index, columns=customer_features.columns)\n",
    "\n",
    "similarity_matrix = cosine_similarity(feature_matrix)\n",
    "similarity_df = pd.DataFrame(similarity_matrix, index=customer_features.index, columns=customer_features.index)\n",
    "\n",
    "output_data = []\n",
    "first_20_customers = customers_df['CustomerID'][:20]\n",
    "\n",
    "for customer_id in first_20_customers:\n",
    "    similarities = similarity_df[customer_id].drop(customer_id)\n",
    "    top_3 = similarities.nlargest(3)\n",
    "    \n",
    "    lookalikes = []\n",
    "    for similar_id, score in top_3.items():\n",
    "        lookalikes.append(f\"{similar_id}:{score:.4f}\")\n",
    "    \n",
    "    lookalike_str = \", \".join(lookalikes)\n",
    "    \n",
    "    output_data.append({\n",
    "        'CustomerID': customer_id,\n",
    "        'Lookalikes': lookalike_str\n",
    "    })\n",
    "\n",
    "output_df = pd.DataFrame(output_data)\n",
    "output_df.to_csv('Abhishek_Lookalike.csv', index=False)\n",
    "\n",
    "print(\"First few rows of the output CSV:\")\n",
    "print(output_df.head())"
   ]
  }
 ],
 "metadata": {
  "kernelspec": {
   "display_name": "Python 3",
   "language": "python",
   "name": "python3"
  },
  "language_info": {
   "codemirror_mode": {
    "name": "ipython",
    "version": 3
   },
   "file_extension": ".py",
   "mimetype": "text/x-python",
   "name": "python",
   "nbconvert_exporter": "python",
   "pygments_lexer": "ipython3",
   "version": "3.9.6"
  }
 },
 "nbformat": 4,
 "nbformat_minor": 2
}
